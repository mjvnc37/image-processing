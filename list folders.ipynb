{
 "cells": [
  {
   "cell_type": "code",
   "execution_count": 6,
   "id": "94541f3d",
   "metadata": {},
   "outputs": [
    {
     "name": "stdout",
     "output_type": "stream",
     "text": [
      "Files and directories in ' C:/Users/User ' :\n",
      "['.anaconda', '.android', '.conda', '.condarc', '.continuum', '.emulator_console_auth_token', '.gradle', '.ipynb_checkpoints', '.ipython', '.jdks', '.jupyter', '.keras', '.keras-ocr', '.m2', '.matplotlib', '.templateengine', '3D Objects', 'abc', 'anaconda3', 'AndroidStudioProjects', 'AppData', 'apple.jfif', 'Application Data', 'Contacts', 'Cookies', 'Data Analytics', 'Desktop', 'Documents', 'Downloads', 'Exam', 'exam1', 'exam2', 'example.db', 'example1.db', 'Favorites', 'hi', 'im.png', 'im2.png', 'Image Processing', 'IntelGraphicsProfiles', 'IP Exam', 'IPEXAM', 'java_error_in_studio64.hprof', 'Links', 'Local Settings', 'Music', 'My Documents', 'myfile1.txt', 'NetHood', 'nethra', 'NTUSER.DAT', 'ntuser.dat.LOG1', 'ntuser.dat.LOG2', 'NTUSER.DAT{5c019482-9884-11ed-90d6-fad6c706777f}.TM.blf', 'NTUSER.DAT{5c019482-9884-11ed-90d6-fad6c706777f}.TMContainer00000000000000000001.regtrans-ms', 'NTUSER.DAT{5c019482-9884-11ed-90d6-fad6c706777f}.TMContainer00000000000000000002.regtrans-ms', 'ntuser.ini', 'OneDrive', 'oneway.xlsx', 'Pictures', 'Principles of Data Science', 'PrintHood', 'project', 'Recent', 'Saved Games', 'ScStore', 'Searches', 'SendTo', 'shreya', 'source', 'spython', 'sql 2(shash).ipynb', 'sql(shash).ipynb', 'Start Menu', 'table2.db', 'table2.sqbpro', 'Templates', 'Untitled Folder', 'Untitled Folder 1', 'Untitled Folder 2', 'Untitled.ipynb', 'untitled.txt', 'Untitled1.ipynb', 'untitled1.txt', 'Untitled10.ipynb', 'Untitled2.ipynb', 'untitled2.txt', 'Untitled3.ipynb', 'Untitled4.ipynb', 'Untitled5.ipynb', 'Untitled6 (1).py', 'Untitled6.ipynb', 'Untitled7.ipynb', 'Untitled8.ipynb', 'Untitled9.ipynb', 'Videos']\n"
     ]
    }
   ],
   "source": [
    "\n",
    "# a . Write a program to list all the files in the folder\n",
    "# import OS module\n",
    "import os\n",
    "\n",
    "# Get the list of all files and directories\n",
    "path = \"C:/Users/User\"\n",
    "dir_list = os.listdir(path)\n",
    "\n",
    "print(\"Files and directories in '\", path, \"' :\")\n",
    "\n",
    "# prints all files\n",
    "print(dir_list)\n"
   ]
  },
  {
   "cell_type": "code",
   "execution_count": 8,
   "id": "af017c1a",
   "metadata": {},
   "outputs": [
    {
     "name": "stdout",
     "output_type": "stream",
     "text": [
      "im.png\n",
      "im2.png\n"
     ]
    }
   ],
   "source": [
    "# import the modules\n",
    "import os\n",
    "from os import listdir\n",
    "\n",
    "# get the path/directory\n",
    "folder_dir = \"C:/Users/User\"\n",
    "for images in os.listdir(folder_dir):\n",
    "\n",
    "\t# check if the image ends with png\n",
    "\tif (images.endswith(\".png\")):\n",
    "\t\tprint(images)\n"
   ]
  },
  {
   "cell_type": "code",
   "execution_count": 11,
   "id": "90adb65d",
   "metadata": {},
   "outputs": [
    {
     "name": "stdout",
     "output_type": "stream",
     "text": [
      "apple.jfif\n"
     ]
    }
   ],
   "source": [
    "# import the modules\n",
    "import os\n",
    "from os import listdir\n",
    "\n",
    "# get the path/directory\n",
    "folder_dir = \"C:/Users/User\"\n",
    "for images in os.listdir(folder_dir):\n",
    "\n",
    "\t# check if the image ends with png\n",
    "\tif (images.endswith(\".jfif\")):\n",
    "\t\tprint(images)\n"
   ]
  },
  {
   "cell_type": "code",
   "execution_count": 12,
   "id": "8e1c57b1",
   "metadata": {},
   "outputs": [],
   "source": [
    "# Importing Image class from PIL module\n",
    "from PIL import Image\n",
    "\n",
    "# Opens a image in RGB mode\n",
    "im = Image.open(r\"C:/Users/User/Downloads/gal.jfif\")\n",
    "\n",
    "# Size of the image in pixels (size of original image)\n",
    "# (This is not mandatory)\n",
    "width, height = im.size\n",
    "\n",
    "# Setting the points for cropped image\n",
    "left = 6\n",
    "top = height / 4\n",
    "right = 174\n",
    "bottom = 3 * height / 4\n",
    "\n",
    "# Cropped image of above dimension\n",
    "# (It will not change original image)\n",
    "im1 = im.crop((left, top, right, bottom))\n",
    "newsize = (200, 200)\n",
    "im1 = im1.resize(newsize)\n",
    "# Shows the image in image viewer\n",
    "im1.show()\n"
   ]
  },
  {
   "cell_type": "code",
   "execution_count": null,
   "id": "d1e848f2",
   "metadata": {},
   "outputs": [],
   "source": []
  }
 ],
 "metadata": {
  "kernelspec": {
   "display_name": "Python 3 (ipykernel)",
   "language": "python",
   "name": "python3"
  },
  "language_info": {
   "codemirror_mode": {
    "name": "ipython",
    "version": 3
   },
   "file_extension": ".py",
   "mimetype": "text/x-python",
   "name": "python",
   "nbconvert_exporter": "python",
   "pygments_lexer": "ipython3",
   "version": "3.9.7"
  }
 },
 "nbformat": 4,
 "nbformat_minor": 5
}
