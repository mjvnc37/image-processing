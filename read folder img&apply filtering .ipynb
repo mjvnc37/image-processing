{
 "cells": [
  {
   "cell_type": "code",
   "execution_count": 8,
   "id": "bc63ca8f",
   "metadata": {},
   "outputs": [
    {
     "name": "stdout",
     "output_type": "stream",
     "text": [
      "cat.jpg\n",
      "lion.jpg\n",
      "monkey.jpg\n",
      "tiger.jpg\n",
      "wolf.jpg\n"
     ]
    }
   ],
   "source": [
    "# import the modules\n",
    "import os\n",
    "from os import listdir\n",
    "\n",
    "# get the path/directory\n",
    "folder_dir = \"C:/Users/User/Downloads/img\"\n",
    "for images in os.listdir(folder_dir):\n",
    "\n",
    "\t# check if the image ends with png\n",
    "\tif (images.endswith(\".jpg\")):\n",
    "\t\tprint(images)\n"
   ]
  },
  {
   "cell_type": "code",
   "execution_count": 1,
   "id": "f4a4b6b7",
   "metadata": {},
   "outputs": [],
   "source": [
    "from PIL import Image\n",
    "import os\n",
    "#Import all the enhancement filter from pillow\n",
    "from PIL.ImageFilter import (\n",
    "   BLUR, CONTOUR, DETAIL, EDGE_ENHANCE, EDGE_ENHANCE_MORE,\n",
    "   EMBOSS, FIND_EDGES, SMOOTH, SMOOTH_MORE, SHARPEN\n",
    ")\n",
    "path=\"D:\\img\"\n",
    "dir_list=os.listdir(path)\n",
    "image_file_list=[file for file in dir_list if file.endswith(\".jpg\")]\n",
    "for image_file in image_file_list:\n",
    "    image_path=os.path.join(path,image_file)\n",
    "    imag=Image.open(image_path)\n",
    "    # Blur the image\n",
    "    img1 = imag.filter( EMBOSS)\n",
    "    img1.show()"
   ]
  },
  {
   "cell_type": "code",
   "execution_count": null,
   "id": "cf8b7ecc",
   "metadata": {},
   "outputs": [],
   "source": []
  }
 ],
 "metadata": {
  "kernelspec": {
   "display_name": "Python 3 (ipykernel)",
   "language": "python",
   "name": "python3"
  },
  "language_info": {
   "codemirror_mode": {
    "name": "ipython",
    "version": 3
   },
   "file_extension": ".py",
   "mimetype": "text/x-python",
   "name": "python",
   "nbconvert_exporter": "python",
   "pygments_lexer": "ipython3",
   "version": "3.9.7"
  }
 },
 "nbformat": 4,
 "nbformat_minor": 5
}
