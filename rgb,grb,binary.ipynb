{
 "cells": [
  {
   "cell_type": "code",
   "execution_count": 21,
   "id": "5847a2d8",
   "metadata": {},
   "outputs": [],
   "source": [
    "import cv2\n",
    "image = cv2.imread('C:/Users/User/Downloads/king.jpg')\n",
    "#converting BGR to RGB\n",
    "image_rgb=cv2.cvtColor(image,cv2.COLOR_BGR2GRAY)\n",
    "cv2.imshow('image',image_rgb)\n",
    "cv2.waitKey(0)\n",
    "cv2.destroyAllWindows()\n",
    "\n"
   ]
  },
  {
   "cell_type": "code",
   "execution_count": 27,
   "id": "5348c9ab",
   "metadata": {
    "scrolled": true
   },
   "outputs": [],
   "source": [
    "import cv2\n",
    "image = cv2.imread('C:/Users/User/Downloads/king.jpg')\n",
    "# Convert the image from RGB to BGR\n",
    "image_rgb=cv2.cvtColor(image,cv2.COLOR_RGB2BGR)\n",
    "\n",
    "# Display the BGR image\n",
    "cv2.imshow('image',image_rgb)\n",
    "cv2.waitKey(0)\n",
    "cv2.destroyAllWindows()\n"
   ]
  },
  {
   "cell_type": "code",
   "execution_count": 29,
   "id": "08b72fae",
   "metadata": {},
   "outputs": [],
   "source": [
    "import cv2\n",
    "img = cv2.imread('C:/Users/User/Downloads/king.jpg')\n",
    "ret, bw_img=cv2.threshold(img, 123, 255, cv2.THRESH_BINARY)\n",
    "\n",
    "\n",
    "#converting to its binary form\n",
    "bw=cv2.threshold(img, 123, 255, cv2.THRESH_BINARY)\n",
    "cv2.imshow(\"Binary\",bw_img)\n",
    "cv2.waitKey(0)\n",
    "cv2.destroyAllWindows()\n"
   ]
  },
  {
   "cell_type": "code",
   "execution_count": 30,
   "id": "b9002f96",
   "metadata": {},
   "outputs": [
    {
     "data": {
      "image/png": "[encoded data removed]",
      "text/plain": [
       "<Figure size 432x288 with 1 Axes>"
      ]
     },
     "metadata": {
      "needs_background": "light"
     },
     "output_type": "display_data"
    }
   ],
   "source": [
    "import matplotlib.pyplot as plt\n",
    "import cv2\n",
    "\n",
    "im = cv2.imread('C:/Users/User/Downloads/king.jpg')\n",
    "# calculate mean value from RGB channels and flatten to 1D array\n",
    "vals = im.mean(axis=2).flatten()\n",
    "# plot histogram with 255 bins\n",
    "b, bins, patches = plt.hist(vals, 255)\n",
    "plt.xlim([0,255])\n",
    "plt.show()"
   ]
  },
  {
   "cell_type": "code",
   "execution_count": null,
   "id": "15a9c04c",
   "metadata": {},
   "outputs": [],
   "source": []
  }
 ],
 "metadata": {
  "kernelspec": {
   "display_name": "Python 3 (ipykernel)",
   "language": "python",
   "name": "python3"
  },
  "language_info": {
   "codemirror_mode": {
    "name": "ipython",
    "version": 3
   },
   "file_extension": ".py",
   "mimetype": "text/x-python",
   "name": "python",
   "nbconvert_exporter": "python",
   "pygments_lexer": "ipython3",
   "version": "3.9.7"
  }
 },
 "nbformat": 4,
 "nbformat_minor": 5
}
